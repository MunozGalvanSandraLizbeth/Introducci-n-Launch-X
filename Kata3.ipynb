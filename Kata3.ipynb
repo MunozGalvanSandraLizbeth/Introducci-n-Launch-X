{
 "cells": [
  {
   "cell_type": "markdown",
   "metadata": {},
   "source": [
    "Actividad 1"
   ]
  },
  {
   "cell_type": "code",
   "execution_count": 6,
   "metadata": {},
   "outputs": [
    {
     "name": "stdout",
     "output_type": "stream",
     "text": [
      "El asteroide va muy rádido, se esta acercando\n"
     ]
    }
   ],
   "source": [
    "asteroide = 49\n",
    "if asteroide > 25:\n",
    "    print(\"El asteroide va muy rádido, se esta acercando\")\n",
    "else:\n",
    "    print(\"Todo normal\")"
   ]
  },
  {
   "cell_type": "markdown",
   "metadata": {},
   "source": [
    "Activad 2"
   ]
  },
  {
   "cell_type": "code",
   "execution_count": 7,
   "metadata": {},
   "outputs": [
    {
     "name": "stdout",
     "output_type": "stream",
     "text": [
      "No se ve nada\n"
     ]
    }
   ],
   "source": [
    "asteroide = 19\n",
    "if asteroide > 20:\n",
    "    print(\"Se ve la luz en el cielo\")\n",
    "elif asteroide == 20:\n",
    "    print(\"Se ve una luz en el cielo\")\n",
    "else:\n",
    "    print(\"No se ve nada\")"
   ]
  },
  {
   "cell_type": "markdown",
   "metadata": {},
   "source": [
    "Actividad 3"
   ]
  },
  {
   "cell_type": "code",
   "execution_count": 8,
   "metadata": {},
   "outputs": [
    {
     "name": "stdout",
     "output_type": "stream",
     "text": [
      "Se ve una luz en el cielo\n"
     ]
    }
   ],
   "source": [
    "veloci_asteroide = 25\n",
    "tama_asteroide = 30\n",
    "if veloci_asteroide > 25 and tama_asteroide > 25:\n",
    "    print(\"El asteroide es peligroso\")\n",
    "elif veloci_asteroide >= 20:\n",
    "    print(\"Se ve una luz en el cielo\")\n",
    "elif tama_asteroide < 20:\n",
    "    print(\"No se ve nada\")\n",
    "else:\n",
    "    print(\"No se ve nada\")"
   ]
  }
 ],
 "metadata": {
  "interpreter": {
   "hash": "867811431945e8da057d7abd54d58a4406b43671bdaab4db84f7d49f276de6c1"
  },
  "kernelspec": {
   "display_name": "Python 3.10.2 64-bit (windows store)",
   "language": "python",
   "name": "python3"
  },
  "language_info": {
   "codemirror_mode": {
    "name": "ipython",
    "version": 3
   },
   "file_extension": ".py",
   "mimetype": "text/x-python",
   "name": "python",
   "nbconvert_exporter": "python",
   "pygments_lexer": "ipython3",
   "version": "3.10.2"
  },
  "orig_nbformat": 4
 },
 "nbformat": 4,
 "nbformat_minor": 2
}
