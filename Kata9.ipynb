{
 "cells": [
  {
   "cell_type": "markdown",
   "metadata": {},
   "source": [
    "Ejercicio 1: Trabajar con argumentos en funciones"
   ]
  },
  {
   "cell_type": "code",
   "execution_count": 12,
   "metadata": {},
   "outputs": [],
   "source": [
    "# Función para leer 3 tanques de combustible y muestre el promedio\n",
    "def Tanques_combustibles(tanque_externo, tanque_interno, tange_hidrogeno):\n",
    "    promedio_total = (tanque_externo + tanque_interno + tange_hidrogeno) / 3\n",
    "    return f\"\"\"Reporte Final:\n",
    "    Promedio total de gas: {promedio_total}%\n",
    "    Tanque externo: {tanque_externo}%\n",
    "    Tanque interno: {tanque_interno}%\n",
    "    Tanque de hidrógeno: {tange_hidrogeno}% \n",
    "    \"\"\""
   ]
  },
  {
   "cell_type": "code",
   "execution_count": 13,
   "metadata": {},
   "outputs": [
    {
     "name": "stdout",
     "output_type": "stream",
     "text": [
      "Reporte Final:\n",
      "    Promedio total de gas: 85.0%\n",
      "    Tanque externo: 90%\n",
      "    Tanque interno: 80%\n",
      "    Tanque de hidrógeno: 85% \n",
      "    \n"
     ]
    }
   ],
   "source": [
    "# Llamamos a la función que genera el reporte print(funcion(tanque1, tanque2, tanque3))\n",
    "print(Tanques_combustibles(90, 80, 85))"
   ]
  },
  {
   "cell_type": "code",
   "execution_count": 14,
   "metadata": {},
   "outputs": [
    {
     "data": {
      "text/plain": [
       "85.0"
      ]
     },
     "execution_count": 14,
     "metadata": {},
     "output_type": "execute_result"
    }
   ],
   "source": [
    "# Función promedio \n",
    "def promedio(gas):\n",
    "    total = sum(gas)\n",
    "    cantidad = len(gas)\n",
    "    return total / cantidad\n",
    "\n",
    "promedio([90, 80, 85]) \n"
   ]
  },
  {
   "cell_type": "code",
   "execution_count": 15,
   "metadata": {},
   "outputs": [
    {
     "name": "stdout",
     "output_type": "stream",
     "text": [
      "Reporte Final:\n",
      "    Total Average: 85.0%\n",
      "    Tanque externo: 90%\n",
      "    Tanque interno: 80%\n",
      "    Tanque de hidrógeno: 85% \n",
      "    \n"
     ]
    }
   ],
   "source": [
    "# Actualiza la función\n",
    "def Tanques_combustibles(tanque_externo, tanque_interno, tange_hidrogeno):\n",
    "    return f\"\"\"Reporte Final:\n",
    "    Total Average: {promedio([tanque_externo, tanque_interno, tange_hidrogeno])}%\n",
    "    Tanque externo: {tanque_externo}%\n",
    "    Tanque interno: {tanque_interno}%\n",
    "    Tanque de hidrógeno: {tange_hidrogeno}% \n",
    "    \"\"\"\n",
    "\n",
    "print(Tanques_combustibles(90, 80, 85))"
   ]
  },
  {
   "cell_type": "markdown",
   "metadata": {},
   "source": [
    "Ejercicio 2: Trabajo con argumentos de palabra clave"
   ]
  },
  {
   "cell_type": "code",
   "execution_count": 17,
   "metadata": {},
   "outputs": [
    {
     "name": "stdout",
     "output_type": "stream",
     "text": [
      "\n",
      "    Misión con destino a: Marte\n",
      "    Tiempo total del viaje: 90 minutos\n",
      "    Total de combustible disponible: 700500 galones\n",
      "    \n"
     ]
    }
   ],
   "source": [
    "# Función con un informe preciso de la misión. Considera hora de prelanzamiento, tiempo de vuelo, destino, tanque externo y tanque interno\n",
    "def reporte(hora_prelanzamiento, tiempo_vuelo , destino, tanque_externo, tanque_interno):\n",
    "    return f\"\"\"\n",
    "    Misión con destino a: {destino}\n",
    "    Tiempo total del viaje: {hora_prelanzamiento + tiempo_vuelo} minutos\n",
    "    Total de combustible disponible: {tanque_externo + tanque_interno} galones\n",
    "    \"\"\"\n",
    "\n",
    "print(reporte(20, 70, \"Marte\", 400000, 300500))"
   ]
  },
  {
   "cell_type": "code",
   "execution_count": 20,
   "metadata": {},
   "outputs": [
    {
     "name": "stdout",
     "output_type": "stream",
     "text": [
      "\n",
      "    Misión con destino a: Marte\n",
      "    Tiempo total del viaje: 90 minutos\n",
      "    Total de combustible disponible: 700500 galones\n",
      "    \n"
     ]
    }
   ],
   "source": [
    "# Escribe tu nueva función de reporte considerando lo anterior\n",
    "def reporte(destino, *minutos, **hora_prelanzamiento):\n",
    "    return f\"\"\"\n",
    "    Misión con destino a: {destino}\n",
    "    Tiempo total del viaje: {sum(minutos)} minutos\n",
    "    Total de combustible disponible: {sum(hora_prelanzamiento.values())} galones\n",
    "    \"\"\"\n",
    "\n",
    "print(reporte(\"Marte\", 20, 50, 20, interno=300500, externo=400000))"
   ]
  },
  {
   "cell_type": "code",
   "execution_count": 23,
   "metadata": {},
   "outputs": [
    {
     "name": "stdout",
     "output_type": "stream",
     "text": [
      "\n",
      "    Misión con destino a: Marte\n",
      "    Tiempo total del viaje: 90 minutos\n",
      "    Total de combustible disponible: 700500\n",
      "    Tanque interno --> 300500 gallones\n",
      "Tanque externo --> 400000 gallones\n",
      "\n"
     ]
    }
   ],
   "source": [
    "# Escribe tu nueva función\n",
    "def reporte(destino, *minutos, **reserva_gas):\n",
    "    reporte_interno = f\"\"\"\n",
    "    Misión con destino a: {destino}\n",
    "    Tiempo total del viaje: {sum(minutos)} minutos\n",
    "    Total de combustible disponible: {sum(reserva_gas.values())}\n",
    "    \"\"\"\n",
    "    for tanque, gallones in reserva_gas.items():\n",
    "        reporte_interno += f\"Tanque {tanque} --> {gallones} gallones\\n\"\n",
    "    return reporte_interno\n",
    "\n",
    "print(reporte(\"Marte\", 20, 50, 20, interno=300500, externo=400000))"
   ]
  }
 ],
 "metadata": {
  "interpreter": {
   "hash": "00f9110a83038975fefab8d730895a794af9ef0151f135d9a32a6a6ce2a1e818"
  },
  "kernelspec": {
   "display_name": "Python 3.10.2 64-bit",
   "language": "python",
   "name": "python3"
  },
  "language_info": {
   "codemirror_mode": {
    "name": "ipython",
    "version": 3
   },
   "file_extension": ".py",
   "mimetype": "text/x-python",
   "name": "python",
   "nbconvert_exporter": "python",
   "pygments_lexer": "ipython3",
   "version": "3.10.2"
  },
  "orig_nbformat": 4
 },
 "nbformat": 4,
 "nbformat_minor": 2
}
