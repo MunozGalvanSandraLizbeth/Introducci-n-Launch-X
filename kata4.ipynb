{
 "cells": [
  {
   "cell_type": "markdown",
   "metadata": {},
   "source": [
    "Ejercicio 1"
   ]
  },
  {
   "cell_type": "code",
   "execution_count": 46,
   "metadata": {},
   "outputs": [],
   "source": [
    "# Ingresamos el texto de la kata\n",
    "text = \"\"\"Interesting facts about the Moon. The Moon is Earth's only satellite. \n",
    "There are several interesting facts about the Moon and how it affects life here on Earth. \n",
    "On average, the Moon moves 4cm away from the Earth every year. \n",
    "This yearly drift is not significant enough to cause immediate effects on Earth. \n",
    "The highest daylight temperature of the Moon is 127 C.\"\"\""
   ]
  },
  {
   "cell_type": "code",
   "execution_count": 47,
   "metadata": {},
   "outputs": [
    {
     "data": {
      "text/plain": [
       "['Interesting facts about the Moon',\n",
       " \" The Moon is Earth's only satellite\",\n",
       " ' \\nThere are several interesting facts about the Moon and how it affects life here on Earth',\n",
       " ' \\nOn average, the Moon moves 4cm away from the Earth every year',\n",
       " ' \\nThis yearly drift is not significant enough to cause immediate effects on Earth',\n",
       " ' \\nThe highest daylight temperature of the Moon is 127 C',\n",
       " '']"
      ]
     },
     "execution_count": 47,
     "metadata": {},
     "output_type": "execute_result"
    }
   ],
   "source": [
    "# Dividir oraciones\n",
    "# Esta kata la comentaré porque en lo personal fue la más difícil e intento entenderla bien\n",
    "# Según vi el módulo 4: la función .split() sirve exactamente para dividir texto y nos pide dividir operaciones\n",
    "# por lo que si se trata de operaciones lo que se tiene que hacer es que dentro de los () definir que debe separar a partir de los puntos '.' \n",
    "parts = text.split('.')\n",
    "parts"
   ]
  },
  {
   "cell_type": "code",
   "execution_count": 48,
   "metadata": {},
   "outputs": [],
   "source": [
    "# Definir palabras clave\n",
    "palabras_clave = [\"average\", \"temperature\", \"distance\"]"
   ]
  },
  {
   "cell_type": "code",
   "execution_count": 49,
   "metadata": {},
   "outputs": [
    {
     "name": "stdout",
     "output_type": "stream",
     "text": [
      " \n",
      "On average, the Moon moves 4cm away from the Earth every year\n",
      " \n",
      "The highest daylight temperature of the Moon is 127 C\n"
     ]
    }
   ],
   "source": [
    "# Ciclo for\n",
    "for words in parts: #Este primer ford se declara una variable llamada words y esta trabajará en la variable parts tomando el texto\n",
    "    for palabras in palabras_clave: #Este for anidado toma la variable palabras con palabras_clave para tomar esas palabras clave\n",
    "        if palabras in words: #Este if lo que hace es que las palabras claves las buscará en el texto de words\n",
    "            print(words) #Si las encuentra imprimirá esos datos\n",
    "            break"
   ]
  },
  {
   "cell_type": "code",
   "execution_count": 50,
   "metadata": {},
   "outputs": [
    {
     "name": "stdout",
     "output_type": "stream",
     "text": [
      " \n",
      "On average, the Moon moves 4cm away from the Earth every year\n",
      " \n",
      "The highest daylight temperature of the Moon is 127 Celsius\n"
     ]
    }
   ],
   "source": [
    "# Ciclo para cambiar Celcius a C\n",
    "# Ciclo for\n",
    "# Reutilizaremos los mismos ciclos, pero al momento de imprimir, este cambiará C por Celsius con la función .replace()\n",
    "for words in parts: \n",
    "    for palabras in palabras_clave:\n",
    "        if palabras in words:\n",
    "            print(words.replace('C', 'Celsius'))\n",
    "            break"
   ]
  },
  {
   "cell_type": "markdown",
   "metadata": {},
   "source": [
    "Actividad 2"
   ]
  },
  {
   "cell_type": "code",
   "execution_count": 51,
   "metadata": {},
   "outputs": [],
   "source": [
    "# Datos \n",
    "#Declaramos variables y asignamos valores\n",
    "name = \"Luna\"\n",
    "gravity = 0.00162 \n",
    "planet = \"Tierra\""
   ]
  },
  {
   "cell_type": "code",
   "execution_count": 52,
   "metadata": {},
   "outputs": [
    {
     "name": "stdout",
     "output_type": "stream",
     "text": [
      "Datos de gravedad sobre Luna\n"
     ]
    }
   ],
   "source": [
    "# Crear un título\n",
    "# Usaremos cadenas f, que es a través de {}\n",
    "titulo = f'Datos de gravedad sobre {name}'\n",
    "print(titulo)\n"
   ]
  },
  {
   "cell_type": "code",
   "execution_count": 53,
   "metadata": {},
   "outputs": [
    {
     "name": "stdout",
     "output_type": "stream",
     "text": [
      "--------------------------------------------- \n",
      "Nombre del planeta: Tierra \n",
      "Gravedad en Luna: 1.6199999999999999 m/s2 \n",
      "\n"
     ]
    }
   ],
   "source": [
    "# Crear una plantilla\n",
    "# De nuevo usaremos cadenas f, las \"\"\" sirven para indicar que se trata de multilínea\n",
    "plantilla = f\"\"\"{'-'*45} \n",
    "Nombre del planeta: {planet} \n",
    "Gravedad en {name}: {gravity * 1000} m/s2 \n",
    "\"\"\"\n",
    "print(plantilla)"
   ]
  },
  {
   "cell_type": "code",
   "execution_count": 59,
   "metadata": {},
   "outputs": [
    {
     "name": "stdout",
     "output_type": "stream",
     "text": [
      "Datos de gravedad sobre Luna \n",
      "--------------------------------------------- \n",
      "Nombre del planeta: Tierra \n",
      "Gravedad en Luna: 1.6199999999999999 m/s2 \n",
      " \n",
      "\n"
     ]
    }
   ],
   "source": [
    "# Unión entre ambas cadenas\n",
    "#Creamos una variable llamada unió, lo que hace es llamar a titulo y a plantilla para unirlos\n",
    "union = f\"\"\"{titulo} \n",
    "{plantilla} \n",
    "\"\"\" \n",
    "print(union)"
   ]
  },
  {
   "cell_type": "code",
   "execution_count": 62,
   "metadata": {},
   "outputs": [],
   "source": [
    "# Muestra nuevos datos\n",
    "# Aquí simplemente se repiten los pasos \n",
    "planeta = 'Marte'\n",
    "gravedad  = 0.00143\n",
    "nombre = 'Ganímedes'"
   ]
  },
  {
   "cell_type": "code",
   "execution_count": 63,
   "metadata": {},
   "outputs": [
    {
     "name": "stdout",
     "output_type": "stream",
     "text": [
      "--------------------------------------------- \n",
      "Nombre del planeta: Tierra \n",
      "Gravedad en Luna: 1.6199999999999999 m/s2 \n",
      "\n"
     ]
    }
   ],
   "source": [
    "# Comprobar platilla\n",
    "# Se imprime la antigua plantilla porque no hemos creado una nueva\n",
    "print(plantilla)"
   ]
  },
  {
   "cell_type": "code",
   "execution_count": 70,
   "metadata": {},
   "outputs": [],
   "source": [
    "# Nueva plantilla\n",
    "# Se repiten los pasos\n",
    "plantilla2 = \"\"\"\n",
    "Datos de Gravedad sobre: {nom}\n",
    "-------------------------------------\n",
    "Nombre del planeta: {plan}\n",
    "Gravedad en {nom}: {grav} m/s2\n",
    "\"\"\""
   ]
  },
  {
   "cell_type": "code",
   "execution_count": 72,
   "metadata": {},
   "outputs": [
    {
     "name": "stdout",
     "output_type": "stream",
     "text": [
      "\n",
      "Datos de Gravedad sobre: Ganímedes\n",
      "-------------------------------------\n",
      "Nombre del planeta: Marte\n",
      "Gravedad en Ganímedes: 0.00143 m/s2\n",
      "\n"
     ]
    }
   ],
   "source": [
    "# Dar formato a plantilla nueva\n",
    "# Recordatorio: el .format() sirve para marcar posiciones dentro de una cadena\n",
    "print(plantilla2.format(nom=nombre, plan=planeta, grav=gravedad))"
   ]
  }
 ],
 "metadata": {
  "interpreter": {
   "hash": "00f9110a83038975fefab8d730895a794af9ef0151f135d9a32a6a6ce2a1e818"
  },
  "kernelspec": {
   "display_name": "Python 3.10.2 64-bit",
   "language": "python",
   "name": "python3"
  },
  "language_info": {
   "codemirror_mode": {
    "name": "ipython",
    "version": 3
   },
   "file_extension": ".py",
   "mimetype": "text/x-python",
   "name": "python",
   "nbconvert_exporter": "python",
   "pygments_lexer": "ipython3",
   "version": "3.10.2"
  },
  "orig_nbformat": 4
 },
 "nbformat": 4,
 "nbformat_minor": 2
}
