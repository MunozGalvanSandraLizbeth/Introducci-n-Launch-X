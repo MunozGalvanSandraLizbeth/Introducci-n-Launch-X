{
 "cells": [
  {
   "cell_type": "markdown",
   "metadata": {},
   "source": [
    "Funciones sin argumentos"
   ]
  },
  {
   "cell_type": "code",
   "execution_count": 30,
   "metadata": {},
   "outputs": [],
   "source": [
    "# Para crear una función, utilizamos la palabra clave def, seguida de un nombre, paréntesis y, después, del cuerpo con el código de función:\n",
    "\n",
    "# Defino mi función\n",
    "def rocket_parts():\n",
    "\n",
    "    print('payload, propellant, structure')"
   ]
  },
  {
   "cell_type": "code",
   "execution_count": 39,
   "metadata": {},
   "outputs": [
    {
     "data": {
      "text/plain": [
       "'payload, propellant, structure'"
      ]
     },
     "execution_count": 39,
     "metadata": {},
     "output_type": "execute_result"
    }
   ],
   "source": [
    "# En este caso, rocket_parts es el nombre de la función. \n",
    "# Ese nombre va seguido de paréntesis vacíos, que indican que no se necesitan argumentos. \n",
    "# El último es el código, con sangría de cuatro espacios. \n",
    "# Para trabajar con la función, debes llamarla por su nombre usando paréntesis:\n",
    "\n",
    "\n",
    "# Llamo a mi función\n",
    "rocket_parts()"
   ]
  },
  {
   "cell_type": "code",
   "execution_count": 24,
   "metadata": {},
   "outputs": [
    {
     "name": "stdout",
     "output_type": "stream",
     "text": [
      "payload, propellant, structure\n"
     ]
    },
    {
     "data": {
      "text/plain": [
       "True"
      ]
     },
     "execution_count": 24,
     "metadata": {},
     "output_type": "execute_result"
    }
   ],
   "source": [
    "# La función rocket_parts() no toma ningún argumento e imprime una instrucción sobre la gravedad. \n",
    "# Si necesitas usar un valor que devuelve una función, puedes asignar la salida de la función a una variable:\n",
    "\n",
    "output = rocket_parts()\n",
    "output is None"
   ]
  },
  {
   "cell_type": "code",
   "execution_count": 31,
   "metadata": {},
   "outputs": [
    {
     "data": {
      "text/plain": [
       "'payload, propellant, structure'"
      ]
     },
     "execution_count": 31,
     "metadata": {},
     "output_type": "execute_result"
    }
   ],
   "source": [
    "# Puede parecer sorprendente que el valor de la variable output sea None. \n",
    "# Esto se debe a que la función rocket_parts() no ha devuelto explícitamente un valor. \n",
    "# En Python, si una función no devuelve explícitamente un valor, devuelve implícitamente None. \n",
    "# Actualizar la función para devolver la cadena en lugar de imprimirla hace que la variable output tenga un valor distinto:\n",
    "\n",
    "def rocket_parts():\n",
    "    return 'payload, propellant, structure'\n",
    "\n",
    "output = rocket_parts()\n",
    "output"
   ]
  },
  {
   "cell_type": "markdown",
   "metadata": {},
   "source": [
    "Argumentos opcionales y requeridos"
   ]
  },
  {
   "cell_type": "code",
   "execution_count": 32,
   "metadata": {},
   "outputs": [
    {
     "data": {
      "text/plain": [
       "False"
      ]
     },
     "execution_count": 32,
     "metadata": {},
     "output_type": "execute_result"
    }
   ],
   "source": [
    "# En Python, varias funciones integradas requieren argumentos. \n",
    "# Algunas funciones integradas hacen que los argumentos sean opcionales. \n",
    "# Las funciones integradas están disponibles de inmediato, por lo que no es necesario importarlas explícitamente.\n",
    "\n",
    "# Un ejemplo de una función integrada que requiere un argumento es any(). \n",
    "# Esta función toma un objeto iterable (por ejemplo, una lista) y devuelve True si algún elemento del objeto iterable es True. \n",
    "# De lo contrario, devuelve False.\n",
    "\n",
    "any([True, False, False])\n",
    "True\n",
    "\n",
    "any([False, False, False])\n",
    "False"
   ]
  },
  {
   "cell_type": "code",
   "execution_count": 59,
   "metadata": {},
   "outputs": [
    {
     "ename": "TypeError",
     "evalue": "any() takes exactly one argument (0 given)",
     "output_type": "error",
     "traceback": [
      "\u001b[1;31m---------------------------------------------------------------------------\u001b[0m",
      "\u001b[1;31mTypeError\u001b[0m                                 Traceback (most recent call last)",
      "\u001b[1;32mc:\\Users\\980016451\\Módulo9.ipynb Cell 8'\u001b[0m in \u001b[0;36m<module>\u001b[1;34m\u001b[0m\n\u001b[0;32m      <a href='vscode-notebook-cell:/c%3A/Users/980016451/M%C3%B3dulo9.ipynb#ch0000023?line=0'>1</a>\u001b[0m \u001b[39m# Si llamamos a any() sin ningún argumento, se genera una excepción útil. El mensaje de error explica que necesita al menos un argumento:\u001b[39;00m\n\u001b[1;32m----> <a href='vscode-notebook-cell:/c%3A/Users/980016451/M%C3%B3dulo9.ipynb#ch0000023?line=2'>3</a>\u001b[0m \u001b[39many\u001b[39;49m()\n",
      "\u001b[1;31mTypeError\u001b[0m: any() takes exactly one argument (0 given)"
     ]
    }
   ],
   "source": [
    "# Si llamamos a any() sin ningún argumento, se genera una excepción útil. El mensaje de error explica que necesita al menos un argumento:\n",
    "\n",
    "any()"
   ]
  },
  {
   "cell_type": "code",
   "execution_count": 35,
   "metadata": {},
   "outputs": [
    {
     "data": {
      "text/plain": [
       "'15'"
      ]
     },
     "execution_count": 35,
     "metadata": {},
     "output_type": "execute_result"
    }
   ],
   "source": [
    "# Puedes comprobar que algunas funciones permiten el uso de argumentos opcionales mediante otra función integrada denominada str(). \n",
    "# Esta función crea una cadena a partir de un argumento. Si no se pasa ningún argumento, devuelve una cadena vacía:\n",
    "\n",
    "str()\n",
    "''\n",
    "str(15)\n",
    "'15'"
   ]
  },
  {
   "cell_type": "markdown",
   "metadata": {},
   "source": [
    "Uso de argumentos en una función de Python"
   ]
  },
  {
   "cell_type": "code",
   "execution_count": 10,
   "metadata": {},
   "outputs": [],
   "source": [
    "# Exigencia de un argumento\n",
    "\n",
    "\n",
    "# Si vas a pilotar un cohete, una función sin entradas obligatorias es como un equipo con un botón que le indique la hora. \n",
    "# Si presionas el botón, una voz computarizada le indicará la hora. \n",
    "# Pero una entrada necesaria puede ser un destino para calcular la distancia del viaje. \n",
    "# Las entradas obligatorias se denominan argumentos para la función.\n",
    "\n",
    "# Para requerir un argumento, agrégalo entre paréntesis:\n",
    "\n",
    "def distance_from_earth(destination):\n",
    "    if destination == 'Moon':\n",
    "        return '238,855'\n",
    "    else:\n",
    "        return 'Unable to compute to that destination'"
   ]
  },
  {
   "cell_type": "code",
   "execution_count": 58,
   "metadata": {},
   "outputs": [
    {
     "ename": "TypeError",
     "evalue": "distance_from_earth() missing 1 required positional argument: 'destination'",
     "output_type": "error",
     "traceback": [
      "\u001b[1;31m---------------------------------------------------------------------------\u001b[0m",
      "\u001b[1;31mTypeError\u001b[0m                                 Traceback (most recent call last)",
      "\u001b[1;32mc:\\Users\\980016451\\Módulo9.ipynb Cell 12'\u001b[0m in \u001b[0;36m<module>\u001b[1;34m\u001b[0m\n\u001b[0;32m      <a href='vscode-notebook-cell:/c%3A/Users/980016451/M%C3%B3dulo9.ipynb#ch0000025?line=0'>1</a>\u001b[0m \u001b[39m# Intenta llamar a la función distance_from_earth() sin argumento alguno:\u001b[39;00m\n\u001b[1;32m----> <a href='vscode-notebook-cell:/c%3A/Users/980016451/M%C3%B3dulo9.ipynb#ch0000025?line=2'>3</a>\u001b[0m distance_from_earth()\n",
      "\u001b[1;31mTypeError\u001b[0m: distance_from_earth() missing 1 required positional argument: 'destination'"
     ]
    }
   ],
   "source": [
    "# Intenta llamar a la función distance_from_earth() sin argumento alguno:\n",
    "\n",
    "distance_from_earth()"
   ]
  },
  {
   "cell_type": "code",
   "execution_count": 38,
   "metadata": {},
   "outputs": [
    {
     "data": {
      "text/plain": [
       "'238,855'"
      ]
     },
     "execution_count": 38,
     "metadata": {},
     "output_type": "execute_result"
    }
   ],
   "source": [
    "# Python genera TypeError con un mensaje de error que indica que la función requiere un argumento denominado destination. \n",
    "# Si se pide al equipo del cohete que calcule la distancia del viaje con un destino, debes solicitar que un destino es un requisito. \n",
    "# El código de ejemplo tiene dos rutas de acceso para una respuesta, una para la Luna y la otra para cualquier otra cosa. \n",
    "# Use la Luna como entrada para obtener una respuesta:\n",
    "\n",
    "distance_from_earth('Moon')"
   ]
  },
  {
   "cell_type": "code",
   "execution_count": 40,
   "metadata": {},
   "outputs": [
    {
     "data": {
      "text/plain": [
       "'Unable to compute to that destination'"
      ]
     },
     "execution_count": 40,
     "metadata": {},
     "output_type": "execute_result"
    }
   ],
   "source": [
    "# Dado que hay una condición catch-all, intenta usar cualquier otra cadena como destino para comprobar ese comportamiento:\n",
    "\n",
    "distance_from_earth('Saturn')"
   ]
  },
  {
   "cell_type": "markdown",
   "metadata": {},
   "source": [
    "Varios argumentos necesarios"
   ]
  },
  {
   "cell_type": "code",
   "execution_count": 41,
   "metadata": {},
   "outputs": [],
   "source": [
    "# Para usar varios argumentos, debes separarlos con una coma. \n",
    "# Vamos a crear una función que pueda calcular cuántos días se tardarán en llegar a un destino, dadas la distancia y una velocidad constante:\n",
    "\n",
    "def days_to_complete(distance, speed):\n",
    "    hours = distance/speed\n",
    "    return hours/24"
   ]
  },
  {
   "cell_type": "code",
   "execution_count": 44,
   "metadata": {},
   "outputs": [
    {
     "data": {
      "text/plain": [
       "132.69722222222222"
      ]
     },
     "execution_count": 44,
     "metadata": {},
     "output_type": "execute_result"
    }
   ],
   "source": [
    "# Ahora usa la distancia entre la Tierra y la Luna para calcular cuántos días tardaría en llegar a la Luna con un límite de velocidad común\n",
    "#  de 120 kilómetros por hora:\n",
    "\n",
    "days_to_complete(238855, 75)"
   ]
  },
  {
   "cell_type": "markdown",
   "metadata": {},
   "source": [
    "Funciones como argumentos"
   ]
  },
  {
   "cell_type": "code",
   "execution_count": 45,
   "metadata": {},
   "outputs": [
    {
     "data": {
      "text/plain": [
       "133"
      ]
     },
     "execution_count": 45,
     "metadata": {},
     "output_type": "execute_result"
    }
   ],
   "source": [
    "# Puedes usar el valor de la función days_to_complete() y asignarlo a una variable y, después, pasarlo a round()\n",
    "# (una función integrada que redondea al número entero más cercano) para obtener un número entero:\n",
    "\n",
    "total_days = days_to_complete(238855, 75)\n",
    "round(total_days)"
   ]
  },
  {
   "cell_type": "code",
   "execution_count": 46,
   "metadata": {},
   "outputs": [
    {
     "data": {
      "text/plain": [
       "133"
      ]
     },
     "execution_count": 46,
     "metadata": {},
     "output_type": "execute_result"
    }
   ],
   "source": [
    "# Pero un patrón útil es pasar funciones a otras funciones en lugar de asignar el valor devuelto:\n",
    "\n",
    "round(days_to_complete(238855, 75))\n",
    "\n",
    "\n",
    "# Sugerencia\n",
    "\n",
    "# Aunque pasar funciones directamente a otras funciones como entrada es útil, existe la posibilidad de que se reduzca la legibilidad. \n",
    "# Este patrón es especialmente problemático cuando las funciones requieren muchos argumentos."
   ]
  },
  {
   "cell_type": "markdown",
   "metadata": {},
   "source": [
    "Uso de argumentos de palabra clave en Python"
   ]
  },
  {
   "cell_type": "code",
   "execution_count": 49,
   "metadata": {},
   "outputs": [],
   "source": [
    "# Los argumentos opcionales requieren un valor predeterminado asignado a ellos. \n",
    "# Estos argumentos con nombre se denominan argumentos de palabra clave. \n",
    "# Los valores del argumento de palabra clave deben definirse en las propias funciones. \n",
    "# Cuando se llama a una función definida con argumentos de palabra clave, no es necesario usarlos en absoluto.\n",
    "\n",
    "# La misión Apolo 11 tardó unas 51 horas en llegar a la Luna.\n",
    "#  Vamos a crear una función que devuelva la hora estimada de llegada usando el mismo valor que la misión Apolo 11 como valor predeterminado:\n",
    "\n",
    "from datetime import timedelta, datetime\n",
    "\n",
    "def arrival_time(hours=51):\n",
    "    now = datetime.now()\n",
    "    arrival = now + timedelta(hours=hours)\n",
    "    return arrival.strftime('Arrival: %A %H:%M')"
   ]
  },
  {
   "cell_type": "code",
   "execution_count": 52,
   "metadata": {},
   "outputs": [
    {
     "data": {
      "text/plain": [
       "'Arrival: Saturday 16:42'"
      ]
     },
     "execution_count": 52,
     "metadata": {},
     "output_type": "execute_result"
    }
   ],
   "source": [
    "# La función usa el módulo datetime para definir la hora actual. \n",
    "# Usa timedelta para permitir la operación de suma que da como resultado un objeto de hora nuevo. \n",
    "# Después de calcular ese resultado, devuelve la estimación arrival con formato de cadena. Intentando llamarla sin algún argumento:\n",
    "\n",
    "arrival_time()\n",
    "'Arrival: Saturday 16:42'"
   ]
  },
  {
   "cell_type": "code",
   "execution_count": 55,
   "metadata": {},
   "outputs": [
    {
     "data": {
      "text/plain": [
       "'Arrival: Thursday 13:42'"
      ]
     },
     "execution_count": 55,
     "metadata": {},
     "output_type": "execute_result"
    }
   ],
   "source": [
    "# Aunque la función define un argumento de palabra clave, no permite pasar uno cuando se llama a una función. \n",
    "# En este caso, la variable hours tiene como valor predeterminado 51. \n",
    "# Para comprobar que la fecha actual es correcta, usamos 0 como valor para hours:\n",
    "\n",
    "arrival_time(hours=0)\n",
    "'Arrival: Thursday 13:42'"
   ]
  },
  {
   "cell_type": "markdown",
   "metadata": {},
   "source": [
    "Combinación de argumentos de palabra clave"
   ]
  },
  {
   "cell_type": "code",
   "execution_count": 56,
   "metadata": {},
   "outputs": [],
   "source": [
    "# A veces, una función necesita una combinación de argumentos de palabra clave y argumentos. \n",
    "# En Python, esta combinación sigue un orden específico. Los argumentos siempre se declaran primero, seguidos de argumentos de palabra clave.\n",
    "\n",
    "# Actualizando la función arrival_time() para que tome un argumento necesario, que es el nombre del destino:\n",
    "\n",
    "from datetime import timedelta, datetime\n",
    "\n",
    "def arrival_time(destination, hours=51):\n",
    "    now = datetime.now()\n",
    "    arrival = now + timedelta(hours=hours)\n",
    "    return arrival.strftime(f'{destination} Arrival: %A %H:%M')"
   ]
  },
  {
   "cell_type": "code",
   "execution_count": 57,
   "metadata": {},
   "outputs": [
    {
     "ename": "TypeError",
     "evalue": "arrival_time() missing 1 required positional argument: 'destination'",
     "output_type": "error",
     "traceback": [
      "\u001b[1;31m---------------------------------------------------------------------------\u001b[0m",
      "\u001b[1;31mTypeError\u001b[0m                                 Traceback (most recent call last)",
      "\u001b[1;32mc:\\Users\\980016451\\Módulo9.ipynb Cell 27'\u001b[0m in \u001b[0;36m<module>\u001b[1;34m\u001b[0m\n\u001b[0;32m      <a href='vscode-notebook-cell:/c%3A/Users/980016451/M%C3%B3dulo9.ipynb#ch0000038?line=0'>1</a>\u001b[0m \u001b[39m# Dado que hemos agregado un argumento necesario, ya no es posible llamar a la función sin ningún argumento:\u001b[39;00m\n\u001b[1;32m----> <a href='vscode-notebook-cell:/c%3A/Users/980016451/M%C3%B3dulo9.ipynb#ch0000038?line=2'>3</a>\u001b[0m arrival_time()\n",
      "\u001b[1;31mTypeError\u001b[0m: arrival_time() missing 1 required positional argument: 'destination'"
     ]
    }
   ],
   "source": [
    "# Dado que hemos agregado un argumento necesario, ya no es posible llamar a la función sin ningún argumento:\n",
    "\n",
    "arrival_time()"
   ]
  },
  {
   "cell_type": "code",
   "execution_count": 61,
   "metadata": {},
   "outputs": [
    {
     "data": {
      "text/plain": [
       "'Moon Arrival: Saturday 16:54'"
      ]
     },
     "execution_count": 61,
     "metadata": {},
     "output_type": "execute_result"
    }
   ],
   "source": [
    "# Usamos 'Moon' como valor para destination a fin de evitar el error:\n",
    "\n",
    "arrival_time('Moon')\n",
    "'Moon Arrival: Saturday 16:54'"
   ]
  },
  {
   "cell_type": "code",
   "execution_count": 62,
   "metadata": {},
   "outputs": [
    {
     "data": {
      "text/plain": [
       "'Orbit Arrival: Monday 14:13'"
      ]
     },
     "execution_count": 62,
     "metadata": {},
     "output_type": "execute_result"
    }
   ],
   "source": [
    "# También podemos pasar más de dos valores, pero debemos separarlos con una coma. \n",
    "# Se tarda aproximadamente 8 minutos (0,13 horas) en entrar en órbita, así que utilizaremos eso como argumento:\n",
    "\n",
    "arrival_time('Orbit', hours=0.13)"
   ]
  },
  {
   "cell_type": "markdown",
   "metadata": {},
   "source": [
    "Uso de argumentos de variable en Python"
   ]
  },
  {
   "cell_type": "code",
   "execution_count": 63,
   "metadata": {},
   "outputs": [],
   "source": [
    "# Argumentos de variable\n",
    "\n",
    "\n",
    "# Los argumentos en las funciones son necesarios. \n",
    "# Pero cuando se usan argumentos de variable, la función permite pasar cualquier número de argumentos (incluido 0). \n",
    "# La sintaxis para usar argumentos de variable es agregar un asterisco único como prefijo (*) antes del nombre del argumento.\n",
    "\n",
    "# La función siguiente imprime los argumentos recibidos:\n",
    "\n",
    "def variable_length(*args):\n",
    "    print(args)\n",
    "\n",
    "# *No es necesario denominar a los argumentos de variable args. \n",
    "# Puedes usar cualquier nombre de variable válido. \n",
    "# Aunque es habitual ver *args o a, debe intentar usar la misma convención en un proyecto."
   ]
  },
  {
   "cell_type": "code",
   "execution_count": 64,
   "metadata": {},
   "outputs": [
    {
     "name": "stdout",
     "output_type": "stream",
     "text": [
      "()\n",
      "('one', 'two')\n",
      "(None,)\n"
     ]
    }
   ],
   "source": [
    "# En este caso, *args indica a la función que acepta cualquier número de argumentos (incluido 0). \n",
    "# En la función, args ahora está disponible como la variable que contiene todos los argumentos como una tupla. \n",
    "# Pruebe la función pasando cualquier número o tipo de argumentos:\n",
    "\n",
    "variable_length()\n",
    "variable_length('one', 'two')\n",
    "variable_length(None)"
   ]
  },
  {
   "cell_type": "code",
   "execution_count": 18,
   "metadata": {},
   "outputs": [],
   "source": [
    "# Un cohete realiza varios pasos antes de un lanzamiento. \n",
    "# En función de las tareas o retrasos, estos pasos pueden tardar más de lo previsto. \n",
    "# Vamos a crear una función de longitud variable que pueda calcular cuántos minutos quedan hasta el inicio, \n",
    "# dado el tiempo que va a tardar cada paso:\n",
    "\n",
    "def sequence_time(*args):\n",
    "    total_minutes = sum(args)\n",
    "    if total_minutes < 60:\n",
    "        return f'Total time to launch is {total_minutes} minutes'\n",
    "    else:\n",
    "        return f'Total time to launch is {total_minutes/60} hours'"
   ]
  },
  {
   "cell_type": "code",
   "execution_count": 65,
   "metadata": {},
   "outputs": [
    {
     "data": {
      "text/plain": [
       "'Total time to launch is 1.1 hours'"
      ]
     },
     "execution_count": 65,
     "metadata": {},
     "output_type": "execute_result"
    }
   ],
   "source": [
    "# Probamos la función pasando cualquier número de minutos:\n",
    "\n",
    "sequence_time(4, 14, 18) \n",
    "sequence_time(4, 14, 48)\n",
    "# Cuando se utilizan argumentos de variable, a cada valor ya no se le asigna un nombre de variable. \n",
    "# Todos los valores ahora forman parte del nombre de variable catch-all que usa el asterisco (en estos ejemplos, args)."
   ]
  },
  {
   "cell_type": "markdown",
   "metadata": {},
   "source": [
    "Argumentos de palabra clave variable"
   ]
  },
  {
   "cell_type": "code",
   "execution_count": 66,
   "metadata": {},
   "outputs": [],
   "source": [
    "# Para que una función acepte cualquier número de argumentos de palabra clave, debe usar una sintaxis similar. \n",
    "# En este caso, se requiere un asterisco doble:\n",
    "\n",
    "def variable_length(**kwargs):\n",
    "    print(kwargs)"
   ]
  },
  {
   "cell_type": "code",
   "execution_count": 67,
   "metadata": {},
   "outputs": [
    {
     "name": "stdout",
     "output_type": "stream",
     "text": [
      "{'tanks': 1, 'day': 'Wednesday', 'pilots': 3}\n"
     ]
    }
   ],
   "source": [
    "# Prueba la función de ejemplo, que imprime los nombres y valores pasados como kwargs:\n",
    "\n",
    "variable_length(tanks=1, day='Wednesday', pilots=3)\n",
    "\n",
    "# Si ya conoces bien los diccionarios de Python, observarás que los argumentos de palabra clave de \n",
    "# longitud variable se asignan como un diccionario.\n",
    "# Para interactuar con las variables y los valores, usamos las mismas operaciones que un diccionario.\n",
    "\n",
    "# *Al igual que con los argumentos de variable, no es necesario usar kwargs cuando se usan argumentos de palabra clave variable. \n",
    "# Puede usar cualquier nombre de variable válido. Aunque es habitual ver **kwargs o *kw, debe intentar usar la misma convención en un proyecto."
   ]
  },
  {
   "cell_type": "code",
   "execution_count": 16,
   "metadata": {},
   "outputs": [],
   "source": [
    "# En esta función, vamos a usar argumentos de palabra clave variable para notificar los astronautas asignados a la misión. \n",
    "# Dado que esta función permite cualquier número de argumentos de palabra clave, \n",
    "# se puede reutilizar independientemente del número de astronautas asignados:\n",
    "\n",
    "def crew_members(**kwargs):\n",
    "    print(f'{len(kwargs)} astronauts assigned for this mission:')\n",
    "    for title, name in kwargs.items():\n",
    "        print(f'{title}: {name}')\n"
   ]
  },
  {
   "cell_type": "code",
   "execution_count": 69,
   "metadata": {},
   "outputs": [
    {
     "name": "stdout",
     "output_type": "stream",
     "text": [
      "3 astronauts assigned for this mission:\n",
      "captain: Neil Armstrong\n",
      "pilot: Buzz Aldrin\n",
      "command_pilot: Michael Collins\n"
     ]
    }
   ],
   "source": [
    "# Probando con la tripulación del Apolo 11:\n",
    "\n",
    "crew_members(captain='Neil Armstrong', pilot='Buzz Aldrin', command_pilot='Michael Collins')"
   ]
  },
  {
   "cell_type": "code",
   "execution_count": 70,
   "metadata": {},
   "outputs": [
    {
     "ename": "SyntaxError",
     "evalue": "keyword argument repeated: pilot (625959691.py, line 4)",
     "output_type": "error",
     "traceback": [
      "\u001b[1;36m  Input \u001b[1;32mIn [70]\u001b[1;36m\u001b[0m\n\u001b[1;33m    crew_members(captain='Neil Armstrong', pilot='Buzz Aldrin', pilot='Michael Collins')\u001b[0m\n\u001b[1;37m                                                                ^\u001b[0m\n\u001b[1;31mSyntaxError\u001b[0m\u001b[1;31m:\u001b[0m keyword argument repeated: pilot\n"
     ]
    }
   ],
   "source": [
    "# Dado que puede pasar cualquier combinación de argumentos de palabra clave, nos aseguramos de evitar palabras clave repetidas. \n",
    "# Las palabras clave repetidas producirán un error:\n",
    "\n",
    "crew_members(captain='Neil Armstrong', pilot='Buzz Aldrin', pilot='Michael Collins')"
   ]
  }
 ],
 "metadata": {
  "interpreter": {
   "hash": "00f9110a83038975fefab8d730895a794af9ef0151f135d9a32a6a6ce2a1e818"
  },
  "kernelspec": {
   "display_name": "Python 3.10.2 64-bit",
   "language": "python",
   "name": "python3"
  },
  "language_info": {
   "codemirror_mode": {
    "name": "ipython",
    "version": 3
   },
   "file_extension": ".py",
   "mimetype": "text/x-python",
   "name": "python",
   "nbconvert_exporter": "python",
   "pygments_lexer": "ipython3",
   "version": "3.10.2"
  },
  "orig_nbformat": 4
 },
 "nbformat": 4,
 "nbformat_minor": 2
}
